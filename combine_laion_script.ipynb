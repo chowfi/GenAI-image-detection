{
 "cells": [
  {
   "cell_type": "code",
   "execution_count": 2,
   "metadata": {},
   "outputs": [
    {
     "name": "stdout",
     "output_type": "stream",
     "text": [
      "Requirement already satisfied: pyspark in /Users/fionachow/opt/anaconda3/envs/bloom/lib/python3.9/site-packages (3.5.0)\n",
      "Requirement already satisfied: py4j==0.10.9.7 in /Users/fionachow/opt/anaconda3/envs/bloom/lib/python3.9/site-packages (from pyspark) (0.10.9.7)\n",
      "Note: you may need to restart the kernel to use updated packages.\n"
     ]
    }
   ],
   "source": [
    "pip install pyspark"
   ]
  },
  {
   "cell_type": "code",
   "execution_count": 5,
   "metadata": {},
   "outputs": [
    {
     "name": "stdout",
     "output_type": "stream",
     "text": [
      "/Users/fionachow/Documents/NYU/CDS/Fall 2023/CSCI - GA 2271 - Computer Vision/Project\n"
     ]
    }
   ],
   "source": [
    "import os\n",
    "current_directory = os.getcwd()\n",
    "print(current_directory)"
   ]
  },
  {
   "cell_type": "code",
   "execution_count": 6,
   "metadata": {},
   "outputs": [],
   "source": [
    "os.chdir(current_directory)\n"
   ]
  },
  {
   "cell_type": "code",
   "execution_count": 7,
   "metadata": {},
   "outputs": [
    {
     "name": "stderr",
     "output_type": "stream",
     "text": [
      "23/11/04 18:28:26 WARN Utils: Your hostname, Fionas-MacBook-Pro-722.local resolves to a loopback address: 127.0.0.1; using 192.168.0.129 instead (on interface en0)\n",
      "23/11/04 18:28:26 WARN Utils: Set SPARK_LOCAL_IP if you need to bind to another address\n",
      "Setting default log level to \"WARN\".\n",
      "To adjust logging level use sc.setLogLevel(newLevel). For SparkR, use setLogLevel(newLevel).\n",
      "23/11/04 18:28:27 WARN NativeCodeLoader: Unable to load native-hadoop library for your platform... using builtin-java classes where applicable\n"
     ]
    }
   ],
   "source": [
    "import pandas as pd\n",
    "from pyspark.sql import SparkSession\n",
    "from pyspark.sql.functions import col\n",
    "\n",
    "spark = SparkSession.builder.appName(\"CombineParquetFiles\").config(\"spark.executor.memory\", \"8g\").config(\"spark.executor.cores\", \"4\").config(\"spark.executor.instances\", \"3\").config(\"spark.dynamicAllocation.enabled\", \"true\").config(\"spark.task.maxFailures\", 10).getOrCreate()"
   ]
  },
  {
   "cell_type": "code",
   "execution_count": 21,
   "metadata": {},
   "outputs": [
    {
     "name": "stderr",
     "output_type": "stream",
     "text": [
      "                                                                                \r"
     ]
    }
   ],
   "source": [
    "parquet_directory_path = '/Users/fionachow/Documents/NYU/CDS/Fall 2023/CSCI - GA 2271 - Computer Vision/Project/laion_sampled'\n",
    "\n",
    "output_parquet_file = '/Users/fionachow/Documents/NYU/CDS/Fall 2023/CSCI - GA 2271 - Computer Vision/Project/laion_combined'\n",
    "\n",
    "df = spark.read.parquet(parquet_directory_path)\n",
    "\n",
    "df_coalesced = df.coalesce(1)\n",
    "\n",
    "df_coalesced.write.mode('overwrite').parquet(output_parquet_file)\n",
    "\n",
    "row_count = df.count()"
   ]
  },
  {
   "cell_type": "code",
   "execution_count": 22,
   "metadata": {},
   "outputs": [
    {
     "name": "stdout",
     "output_type": "stream",
     "text": [
      "224917\n"
     ]
    }
   ],
   "source": [
    "print(row_count)"
   ]
  },
  {
   "cell_type": "code",
   "execution_count": 23,
   "metadata": {},
   "outputs": [
    {
     "name": "stdout",
     "output_type": "stream",
     "text": [
      "+-------------+--------------------+--------------------+------+-----+-------+--------+-------------------+\n",
      "|    SAMPLE_ID|                 URL|                TEXT|HEIGHT|WIDTH|LICENSE|    NSFW|         similarity|\n",
      "+-------------+--------------------+--------------------+------+-----+-------+--------+-------------------+\n",
      "|2984066012741|http://games.bigf...|All-in-One Mahjong 2|   175|  150|      ?|UNLIKELY|0.39004501700401306|\n",
      "|3045526014787|https://www.alber...|With Luís Amorim ...|   487|  487|      ?|UNLIKELY|0.35502174496650696|\n",
      "|3045507012740|https://upload.wi...|The Phillip Medhu...|   120|   87|      ?|UNLIKELY|0.30956360697746277|\n",
      "| 728356006589|http://t02.devian...|Appa in the mount...|   300|  183|      ?|UNLIKELY| 0.3092861473560333|\n",
      "|3826036007916|https://cdn.shopi...|Blue stripes Bag ...|   600|  600|      ?|UNLIKELY|0.31204408407211304|\n",
      "| 719965000384|https://i.pinimg....|The Illusion Bloc...|   236|  177|      ?|UNLIKELY| 0.3714424967765808|\n",
      "|3119377045042|https://thumblr.u...|10064c64c18 Nike ...|   600|  600|      ?|UNLIKELY| 0.3242715299129486|\n",
      "|2101044006431|http://i.bosscdn....|     workwear fabric|  1000|  750|      ?|UNLIKELY|0.30211013555526733|\n",
      "|1693649008609|https://cdn.cohub...|Lee Master Locati...|   240|  218|      ?|UNLIKELY| 0.3156511187553406|\n",
      "|3711077028261|https://placestog...|Kissing Park – Tu...|   640|  480|      ?|UNLIKELY|0.32349294424057007|\n",
      "|2505203007499|https://img.evera...|semimount engagem...|  1100|  950|      ?|UNLIKELY| 0.3050861656665802|\n",
      "|1931641009714|https://i.pinimg....|senior pictures -...|   736|  490|      ?|UNLIKELY| 0.3213344216346741|\n",
      "|2309653014374|https://li4.right...|cheap -ONDENN 1se...|   190|  250|      ?|UNLIKELY|0.30754879117012024|\n",
      "|2828628018538|http://firesafety...|Dust Storm at Bourke|   100|   75|      ?|UNLIKELY| 0.3197883069515228|\n",
      "|2417506024306|http://wac.17F1.e...|Image of life sav...|   152|  106|      ?|UNLIKELY|0.31844043731689453|\n",
      "|  53012009034|http://cdn.shopif...|GunnerCase for iP...|   159|   99|      ?|UNLIKELY| 0.3356301188468933|\n",
      "|4125971007609|https://cdn1.jewe...|Exclusive 18k hol...|   300|  300|      ?|UNLIKELY| 0.3378494679927826|\n",
      "| 530248004564|http://rlv.zcache...|Royal Crown with ...|   324|  324|      ?|UNLIKELY| 0.3524492681026459|\n",
      "|1693528014666|https://gloimg.rg...|Store Skater Dres...|   360|  480|      ?|UNLIKELY| 0.3477763533592224|\n",
      "|4125046030714|https://www.dkodi...|The mysterious ti...|   640|  450|      ?|UNLIKELY| 0.3218812644481659|\n",
      "+-------------+--------------------+--------------------+------+-----+-------+--------+-------------------+\n",
      "only showing top 20 rows\n",
      "\n"
     ]
    }
   ],
   "source": [
    "parquet_directory_path = '/Users/fionachow/Documents/NYU/CDS/Fall 2023/CSCI - GA 2271 - Computer Vision/Project/laion_combined/part-00000-0190eea7-02ac-4ea0-86fd-0722308c0c58-c000.snappy.parquet'\n",
    "\n",
    "df = spark.read.parquet(parquet_directory_path)\n",
    "\n",
    "df.show()"
   ]
  },
  {
   "cell_type": "code",
   "execution_count": 24,
   "metadata": {},
   "outputs": [
    {
     "name": "stdout",
     "output_type": "stream",
     "text": [
      "224917\n"
     ]
    }
   ],
   "source": [
    "print(df.count())"
   ]
  }
 ],
 "metadata": {
  "kernelspec": {
   "display_name": "bloom",
   "language": "python",
   "name": "python3"
  },
  "language_info": {
   "codemirror_mode": {
    "name": "ipython",
    "version": 3
   },
   "file_extension": ".py",
   "mimetype": "text/x-python",
   "name": "python",
   "nbconvert_exporter": "python",
   "pygments_lexer": "ipython3",
   "version": "3.9.16"
  },
  "orig_nbformat": 4
 },
 "nbformat": 4,
 "nbformat_minor": 2
}
